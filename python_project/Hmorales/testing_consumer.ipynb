{
 "cells": [
  {
   "cell_type": "code",
   "execution_count": null,
   "metadata": {},
   "outputs": [
    {
     "ename": "InterfaceError",
     "evalue": "No result set to fetch from",
     "output_type": "error",
     "traceback": [
      "\u001b[1;31m---------------------------------------------------------------------------\u001b[0m",
      "\u001b[1;31mInterfaceError\u001b[0m                            Traceback (most recent call last)",
      "Cell \u001b[1;32mIn[4], line 23\u001b[0m\n\u001b[0;32m     19\u001b[0m dw_mk_topic\u001b[38;5;241m=\u001b[39m\u001b[38;5;124m'\u001b[39m\u001b[38;5;124mdw.market.data\u001b[39m\u001b[38;5;124m'\u001b[39m\n\u001b[0;32m     22\u001b[0m \u001b[38;5;66;03m# Connection to our database.\u001b[39;00m\n\u001b[1;32m---> 23\u001b[0m mycursor,mydb \u001b[38;5;241m=\u001b[39m cf\u001b[38;5;241m.\u001b[39mdb_engine()\n\u001b[0;32m     24\u001b[0m \u001b[38;5;66;03m#mydb=cursoranddb(1)\u001b[39;00m\n\u001b[0;32m     25\u001b[0m \u001b[38;5;66;03m#mycursor=cursoranddb(0)\u001b[39;00m\n\u001b[0;32m     26\u001b[0m \n\u001b[0;32m     27\u001b[0m \u001b[38;5;66;03m# Consumer creation and TopicPartition usage.\u001b[39;00m\n\u001b[0;32m     28\u001b[0m dw_mk_consumer \u001b[38;5;241m=\u001b[39m cf\u001b[38;5;241m.\u001b[39mconsumer(dw_mk_topic)\n",
      "File \u001b[1;32m~\\AppData\\Local\\Packages\\PythonSoftwareFoundation.Python.3.12_qbz5n2kfra8p0\\LocalCache\\local-packages\\Python312\\site-packages\\mysql\\connector\\cursor.py:890\u001b[0m, in \u001b[0;36mMySQLCursor.fetchone\u001b[1;34m(self)\u001b[0m\n\u001b[0;32m    884\u001b[0m \u001b[38;5;28;01mdef\u001b[39;00m \u001b[38;5;21mfetchone\u001b[39m(\u001b[38;5;28mself\u001b[39m) \u001b[38;5;241m-\u001b[39m\u001b[38;5;241m>\u001b[39m Optional[RowType]:\n\u001b[0;32m    885\u001b[0m \u001b[38;5;250m    \u001b[39m\u001b[38;5;124;03m\"\"\"Return next row of a query result set.\u001b[39;00m\n\u001b[0;32m    886\u001b[0m \n\u001b[0;32m    887\u001b[0m \u001b[38;5;124;03m    Returns:\u001b[39;00m\n\u001b[0;32m    888\u001b[0m \u001b[38;5;124;03m        tuple or None: A row from query result set.\u001b[39;00m\n\u001b[0;32m    889\u001b[0m \u001b[38;5;124;03m    \"\"\"\u001b[39;00m\n\u001b[1;32m--> 890\u001b[0m     \u001b[38;5;28;43mself\u001b[39;49m\u001b[38;5;241;43m.\u001b[39;49m\u001b[43m_check_executed\u001b[49m\u001b[43m(\u001b[49m\u001b[43m)\u001b[49m\n\u001b[0;32m    891\u001b[0m     \u001b[38;5;28;01mreturn\u001b[39;00m \u001b[38;5;28mself\u001b[39m\u001b[38;5;241m.\u001b[39m_fetch_row()\n",
      "File \u001b[1;32m~\\AppData\\Local\\Packages\\PythonSoftwareFoundation.Python.3.12_qbz5n2kfra8p0\\LocalCache\\local-packages\\Python312\\site-packages\\mysql\\connector\\cursor.py:291\u001b[0m, in \u001b[0;36mMySQLCursor._check_executed\u001b[1;34m(self)\u001b[0m\n\u001b[0;32m    286\u001b[0m \u001b[38;5;250m\u001b[39m\u001b[38;5;124;03m\"\"\"Check if the statement has been executed.\u001b[39;00m\n\u001b[0;32m    287\u001b[0m \n\u001b[0;32m    288\u001b[0m \u001b[38;5;124;03mRaises an error if the statement has not been executed.\u001b[39;00m\n\u001b[0;32m    289\u001b[0m \u001b[38;5;124;03m\"\"\"\u001b[39;00m\n\u001b[0;32m    290\u001b[0m \u001b[38;5;28;01mif\u001b[39;00m \u001b[38;5;28mself\u001b[39m\u001b[38;5;241m.\u001b[39m_executed \u001b[38;5;129;01mis\u001b[39;00m \u001b[38;5;28;01mNone\u001b[39;00m:\n\u001b[1;32m--> 291\u001b[0m     \u001b[38;5;28;01mraise\u001b[39;00m InterfaceError(ERR_NO_RESULT_TO_FETCH)\n",
      "\u001b[1;31mInterfaceError\u001b[0m: No result set to fetch from"
     ]
    }
   ],
   "source": [
    "#consumer\n",
    "import six\n",
    "import sys\n",
    "if sys.version_info >= (3, 12, 0):\n",
    "    sys.modules['kafka.vendor.six.moves'] = six.moves\n",
    "\n",
    "from IPython.display import clear_output # You can use this to clean your output in every loop.\n",
    "import json\n",
    "\n",
    "from datetime import datetime as dt\n",
    "import consumer_functions as cf\n",
    "import project_functions as proj_f\n",
    "\n",
    "### DB Connection Variables.\n",
    "###### Recuerda NO subir tus credenciales a github: siempre puedes crear un JSON, mantener tus credenciales ahí e ingresarlo en tu .gitignore.\n",
    "\n",
    "\n",
    "### Topic name.\n",
    "dw_mk_topic='dw.market.data'\n",
    "\n",
    "\n",
    "# Connection to our database.\n",
    "global mydb\n",
    "mydb=[]\n",
    "mycursor = cf.db_engine()\n",
    "\n",
    "\n",
    "# Consumer creation and TopicPartition usage.\n",
    "dw_mk_consumer = cf.consumer(dw_mk_topic)\n",
    "\n",
    "print(f'dw_mk_consumer : {dw_mk_consumer}') \n",
    "    \n",
    "# Loop over the consumer for the latest message they received.\n",
    "for index, dw_mk_msg in enumerate(dw_mk_consumer):\n",
    "    \n",
    "    # Cleaning the output on the cells of .ipynb files.\n",
    "    # clear_output(wait=True) \n",
    "    print(f'{index}: dw_mk_msg: {dw_mk_msg.value}')\n",
    "    if dw_mk_msg is None:\n",
    "        print ('record nulo')\n",
    "        continue\n",
    "    \n",
    "    #cf.handling_message(dw_mk_msg.value)\n",
    "    if dw_mk_msg.value:\n",
    "        # Handling the message value into readable format and creating a dataframe from it.\n",
    "        cf.handling_message(dw_mk_msg.value)\n",
    "        cf.db_materialization(engine=mycursor,json_df=dw_mk_msg.value,mydb=mydb)"
   ]
  }
 ],
 "metadata": {
  "kernelspec": {
   "display_name": "Python 3",
   "language": "python",
   "name": "python3"
  },
  "language_info": {
   "codemirror_mode": {
    "name": "ipython",
    "version": 3
   },
   "file_extension": ".py",
   "mimetype": "text/x-python",
   "name": "python",
   "nbconvert_exporter": "python",
   "pygments_lexer": "ipython3",
   "version": "3.12.8"
  }
 },
 "nbformat": 4,
 "nbformat_minor": 2
}
